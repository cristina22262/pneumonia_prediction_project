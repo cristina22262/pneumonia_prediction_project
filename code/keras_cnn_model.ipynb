{
  "nbformat": 4,
  "nbformat_minor": 0,
  "metadata": {
    "colab": {
      "provenance": [],
      "gpuType": "T4"
    },
    "kernelspec": {
      "name": "python3",
      "display_name": "Python 3"
    },
    "language_info": {
      "name": "python"
    },
    "accelerator": "GPU"
  },
  "cells": [
    {
      "cell_type": "markdown",
      "source": [
        "# Pneumonia X-Ray Classifier with PyTorch and Keras CNN Model"
      ],
      "metadata": {
        "id": "G5jDBBOECoLh"
      }
    },
    {
      "cell_type": "markdown",
      "source": [
        "In this code we will be creating a deep learning neural network with the convolutional neural network (CNN)."
      ],
      "metadata": {
        "id": "3QsoeGl8JYJg"
      }
    },
    {
      "cell_type": "markdown",
      "source": [
        "##Setting up the Spark"
      ],
      "metadata": {
        "id": "k2gjuhaAwluw"
      }
    },
    {
      "cell_type": "code",
      "execution_count": 2,
      "metadata": {
        "id": "OAU73aVbwPyW"
      },
      "outputs": [],
      "source": [
        "# First we will set up the Spark session\n",
        "\n",
        "!pip install -q pyspark\n",
        "\n",
        "appname = \"Pneumonia X Ray Classifier\"\n",
        "\n",
        "from pyspark.sql import SparkSession\n",
        "spark = SparkSession.builder.appName(appname).master(\"local[*]\").getOrCreate()"
      ]
    },
    {
      "cell_type": "markdown",
      "source": [
        "## Setting up the Data"
      ],
      "metadata": {
        "id": "9GwghR3dwzs9"
      }
    },
    {
      "cell_type": "code",
      "source": [
        "# Setting up and downloading the data from kaggle\n",
        "\n",
        "!pip install -q kaggle\n",
        "from google.colab import drive\n",
        "drive.mount('/content/drive')\n",
        "from google.colab import files\n",
        "files.upload()\n",
        "!mkdir -p ~/.kaggle\n",
        "!cp kaggle.json ~/.kaggle/\n",
        "!chmod 600 ~/.kaggle/kaggle.json\n",
        "!cat ~/.kaggle/kaggle.json\n",
        "import kagglehub"
      ],
      "metadata": {
        "id": "VCOfkQOswtRC",
        "colab": {
          "base_uri": "https://localhost:8080/",
          "height": 108
        },
        "outputId": "923d3de5-7842-4d2f-873f-7186a9750d65"
      },
      "execution_count": 1,
      "outputs": [
        {
          "output_type": "stream",
          "name": "stdout",
          "text": [
            "Mounted at /content/drive\n"
          ]
        },
        {
          "output_type": "display_data",
          "data": {
            "text/plain": [
              "<IPython.core.display.HTML object>"
            ],
            "text/html": [
              "\n",
              "     <input type=\"file\" id=\"files-0c7c7d71-f801-436c-b622-39b7388a24ca\" name=\"files[]\" multiple disabled\n",
              "        style=\"border:none\" />\n",
              "     <output id=\"result-0c7c7d71-f801-436c-b622-39b7388a24ca\">\n",
              "      Upload widget is only available when the cell has been executed in the\n",
              "      current browser session. Please rerun this cell to enable.\n",
              "      </output>\n",
              "      <script>// Copyright 2017 Google LLC\n",
              "//\n",
              "// Licensed under the Apache License, Version 2.0 (the \"License\");\n",
              "// you may not use this file except in compliance with the License.\n",
              "// You may obtain a copy of the License at\n",
              "//\n",
              "//      http://www.apache.org/licenses/LICENSE-2.0\n",
              "//\n",
              "// Unless required by applicable law or agreed to in writing, software\n",
              "// distributed under the License is distributed on an \"AS IS\" BASIS,\n",
              "// WITHOUT WARRANTIES OR CONDITIONS OF ANY KIND, either express or implied.\n",
              "// See the License for the specific language governing permissions and\n",
              "// limitations under the License.\n",
              "\n",
              "/**\n",
              " * @fileoverview Helpers for google.colab Python module.\n",
              " */\n",
              "(function(scope) {\n",
              "function span(text, styleAttributes = {}) {\n",
              "  const element = document.createElement('span');\n",
              "  element.textContent = text;\n",
              "  for (const key of Object.keys(styleAttributes)) {\n",
              "    element.style[key] = styleAttributes[key];\n",
              "  }\n",
              "  return element;\n",
              "}\n",
              "\n",
              "// Max number of bytes which will be uploaded at a time.\n",
              "const MAX_PAYLOAD_SIZE = 100 * 1024;\n",
              "\n",
              "function _uploadFiles(inputId, outputId) {\n",
              "  const steps = uploadFilesStep(inputId, outputId);\n",
              "  const outputElement = document.getElementById(outputId);\n",
              "  // Cache steps on the outputElement to make it available for the next call\n",
              "  // to uploadFilesContinue from Python.\n",
              "  outputElement.steps = steps;\n",
              "\n",
              "  return _uploadFilesContinue(outputId);\n",
              "}\n",
              "\n",
              "// This is roughly an async generator (not supported in the browser yet),\n",
              "// where there are multiple asynchronous steps and the Python side is going\n",
              "// to poll for completion of each step.\n",
              "// This uses a Promise to block the python side on completion of each step,\n",
              "// then passes the result of the previous step as the input to the next step.\n",
              "function _uploadFilesContinue(outputId) {\n",
              "  const outputElement = document.getElementById(outputId);\n",
              "  const steps = outputElement.steps;\n",
              "\n",
              "  const next = steps.next(outputElement.lastPromiseValue);\n",
              "  return Promise.resolve(next.value.promise).then((value) => {\n",
              "    // Cache the last promise value to make it available to the next\n",
              "    // step of the generator.\n",
              "    outputElement.lastPromiseValue = value;\n",
              "    return next.value.response;\n",
              "  });\n",
              "}\n",
              "\n",
              "/**\n",
              " * Generator function which is called between each async step of the upload\n",
              " * process.\n",
              " * @param {string} inputId Element ID of the input file picker element.\n",
              " * @param {string} outputId Element ID of the output display.\n",
              " * @return {!Iterable<!Object>} Iterable of next steps.\n",
              " */\n",
              "function* uploadFilesStep(inputId, outputId) {\n",
              "  const inputElement = document.getElementById(inputId);\n",
              "  inputElement.disabled = false;\n",
              "\n",
              "  const outputElement = document.getElementById(outputId);\n",
              "  outputElement.innerHTML = '';\n",
              "\n",
              "  const pickedPromise = new Promise((resolve) => {\n",
              "    inputElement.addEventListener('change', (e) => {\n",
              "      resolve(e.target.files);\n",
              "    });\n",
              "  });\n",
              "\n",
              "  const cancel = document.createElement('button');\n",
              "  inputElement.parentElement.appendChild(cancel);\n",
              "  cancel.textContent = 'Cancel upload';\n",
              "  const cancelPromise = new Promise((resolve) => {\n",
              "    cancel.onclick = () => {\n",
              "      resolve(null);\n",
              "    };\n",
              "  });\n",
              "\n",
              "  // Wait for the user to pick the files.\n",
              "  const files = yield {\n",
              "    promise: Promise.race([pickedPromise, cancelPromise]),\n",
              "    response: {\n",
              "      action: 'starting',\n",
              "    }\n",
              "  };\n",
              "\n",
              "  cancel.remove();\n",
              "\n",
              "  // Disable the input element since further picks are not allowed.\n",
              "  inputElement.disabled = true;\n",
              "\n",
              "  if (!files) {\n",
              "    return {\n",
              "      response: {\n",
              "        action: 'complete',\n",
              "      }\n",
              "    };\n",
              "  }\n",
              "\n",
              "  for (const file of files) {\n",
              "    const li = document.createElement('li');\n",
              "    li.append(span(file.name, {fontWeight: 'bold'}));\n",
              "    li.append(span(\n",
              "        `(${file.type || 'n/a'}) - ${file.size} bytes, ` +\n",
              "        `last modified: ${\n",
              "            file.lastModifiedDate ? file.lastModifiedDate.toLocaleDateString() :\n",
              "                                    'n/a'} - `));\n",
              "    const percent = span('0% done');\n",
              "    li.appendChild(percent);\n",
              "\n",
              "    outputElement.appendChild(li);\n",
              "\n",
              "    const fileDataPromise = new Promise((resolve) => {\n",
              "      const reader = new FileReader();\n",
              "      reader.onload = (e) => {\n",
              "        resolve(e.target.result);\n",
              "      };\n",
              "      reader.readAsArrayBuffer(file);\n",
              "    });\n",
              "    // Wait for the data to be ready.\n",
              "    let fileData = yield {\n",
              "      promise: fileDataPromise,\n",
              "      response: {\n",
              "        action: 'continue',\n",
              "      }\n",
              "    };\n",
              "\n",
              "    // Use a chunked sending to avoid message size limits. See b/62115660.\n",
              "    let position = 0;\n",
              "    do {\n",
              "      const length = Math.min(fileData.byteLength - position, MAX_PAYLOAD_SIZE);\n",
              "      const chunk = new Uint8Array(fileData, position, length);\n",
              "      position += length;\n",
              "\n",
              "      const base64 = btoa(String.fromCharCode.apply(null, chunk));\n",
              "      yield {\n",
              "        response: {\n",
              "          action: 'append',\n",
              "          file: file.name,\n",
              "          data: base64,\n",
              "        },\n",
              "      };\n",
              "\n",
              "      let percentDone = fileData.byteLength === 0 ?\n",
              "          100 :\n",
              "          Math.round((position / fileData.byteLength) * 100);\n",
              "      percent.textContent = `${percentDone}% done`;\n",
              "\n",
              "    } while (position < fileData.byteLength);\n",
              "  }\n",
              "\n",
              "  // All done.\n",
              "  yield {\n",
              "    response: {\n",
              "      action: 'complete',\n",
              "    }\n",
              "  };\n",
              "}\n",
              "\n",
              "scope.google = scope.google || {};\n",
              "scope.google.colab = scope.google.colab || {};\n",
              "scope.google.colab._files = {\n",
              "  _uploadFiles,\n",
              "  _uploadFilesContinue,\n",
              "};\n",
              "})(self);\n",
              "</script> "
            ]
          },
          "metadata": {}
        },
        {
          "output_type": "stream",
          "name": "stdout",
          "text": [
            "Saving kaggle.json to kaggle.json\n",
            "{\"username\":\"elizabethkwon\",\"key\":\"892ee8c44a85dd1ba99a9e518e949f8b\"}"
          ]
        }
      ]
    },
    {
      "cell_type": "code",
      "source": [
        "imagepath = kagglehub.dataset_download(\"paultimothymooney/chest-xray-pneumonia\")\n",
        "import os\n",
        "data_path = os.path.join(imagepath, 'chest_xray')\n",
        "print(os.listdir(data_path))"
      ],
      "metadata": {
        "id": "TNdXBHuSxUmL",
        "colab": {
          "base_uri": "https://localhost:8080/"
        },
        "outputId": "b8f8cce2-37be-40ff-ea6b-f08643ee0d2b"
      },
      "execution_count": 3,
      "outputs": [
        {
          "output_type": "stream",
          "name": "stdout",
          "text": [
            "Downloading from https://www.kaggle.com/api/v1/datasets/download/paultimothymooney/chest-xray-pneumonia?dataset_version_number=2...\n"
          ]
        },
        {
          "output_type": "stream",
          "name": "stderr",
          "text": [
            "100%|██████████| 2.29G/2.29G [00:33<00:00, 74.5MB/s]"
          ]
        },
        {
          "output_type": "stream",
          "name": "stdout",
          "text": [
            "Extracting files...\n"
          ]
        },
        {
          "output_type": "stream",
          "name": "stderr",
          "text": [
            "\n"
          ]
        },
        {
          "output_type": "stream",
          "name": "stdout",
          "text": [
            "['train', 'val', 'chest_xray', '__MACOSX', 'test']\n"
          ]
        }
      ]
    },
    {
      "cell_type": "code",
      "source": [
        "# This function is for creating the list of images with the label (either pneumonia or normal, given the file pathway)\n",
        "\n",
        "def file_list(directory, label, targetlist):\n",
        "    for file in os.listdir(directory):\n",
        "        if file.lower().endswith('.jpeg'):  # Include only .jpeg files\n",
        "            targetlist.append([os.path.join(directory, file), label])"
      ],
      "metadata": {
        "id": "2T9dAuB3x0vd"
      },
      "execution_count": 4,
      "outputs": []
    },
    {
      "cell_type": "code",
      "source": [
        "import numpy as np\n",
        "from PIL import Image\n",
        "\n",
        "# This function is for the preprocessing of the images, changing from rbg --> grayscale and normalizing the pixesl.\n",
        "def processingimg(image_path, target_size=(224, 224)):\n",
        "    try:\n",
        "        img = Image.open(image_path).convert('L')\n",
        "        image_resized = img.resize(target_size)\n",
        "        return np.array(image_resized).astype('float32') / 255.0\n",
        "    except Exception as e:\n",
        "        print(f\"Error processing image {image_path}: {e}\")\n",
        "        return None\n",
        "\n",
        "# This functino creates a spark dataframe, calling on the preprocessingimg function\n",
        "def compose_dataset_spark(sparkdf, target_size=(224, 224)):\n",
        "    images = []\n",
        "    labels = []\n",
        "\n",
        "    for row in sparkdf.collect():\n",
        "        img_array = processingimg(row.image, target_size)\n",
        "        if img_array is not None:\n",
        "            images.append(img_array)\n",
        "            labels.append(row.label)\n",
        "\n",
        "    images = np.array(images).reshape(-1, target_size[0], target_size[1], 1)  # Add channel dimension\n",
        "    labels = np.array(labels)\n",
        "\n",
        "    return images, labels"
      ],
      "metadata": {
        "id": "dQlSVNaayBqz"
      },
      "execution_count": 5,
      "outputs": []
    },
    {
      "cell_type": "markdown",
      "source": [
        "First, we made the images and the labels into a list. This list was then randomized to avoid biases in the model's learning."
      ],
      "metadata": {
        "id": "_R0-UZAi9wvI"
      }
    },
    {
      "cell_type": "code",
      "source": [
        "train_path_p = os.path.join(data_path, 'train/PNEUMONIA')\n",
        "train_path_n = os.path.join(data_path, 'train/NORMAL')\n",
        "val_path_p = os.path.join(data_path, 'val/PNEUMONIA')\n",
        "val_path_n = os.path.join(data_path, 'val/NORMAL')\n",
        "test_path_p = os.path.join(data_path, 'test/PNEUMONIA')\n",
        "test_path_n = os.path.join(data_path, 'test/NORMAL')\n",
        "\n",
        "trainlist = []\n",
        "testlist = []\n",
        "vallist = []\n",
        "\n",
        "# Here we are labeling 0 for normal and 1 for pneumonia\n",
        "file_list(train_path_n, 0, trainlist)\n",
        "file_list(train_path_p, 1, trainlist)\n",
        "file_list(test_path_n, 0, testlist)\n",
        "file_list(test_path_p, 1, testlist)\n",
        "file_list(val_path_n, 0, vallist)\n",
        "file_list(val_path_p, 1, vallist)\n",
        "\n",
        "# here we are randomly shuffling the list so that the model doesn't learn /\n",
        "## patterns based on the groupings on the order of the list.\n",
        "import random as rn\n",
        "rn.shuffle(trainlist)\n",
        "rn.shuffle(testlist)\n",
        "rn.shuffle(vallist)"
      ],
      "metadata": {
        "id": "39dByuG9yEbI"
      },
      "execution_count": 6,
      "outputs": []
    },
    {
      "cell_type": "markdown",
      "source": [
        "The lists were then turned into spark dataframes with two columns: the image and the label.\n",
        "\n",
        "There were 5216 images total in the train dataset, 624 in the test set, and 16 in the validation set."
      ],
      "metadata": {
        "id": "Y-1m_pSX4krk"
      }
    },
    {
      "cell_type": "code",
      "source": [
        "# Create Spark DataFrames\n",
        "trainimage_df = spark.createDataFrame(trainlist, [\"image\", \"label\"])\n",
        "testimage_df = spark.createDataFrame(testlist, [\"image\", \"label\"])\n",
        "valimage_df = spark.createDataFrame(vallist, [\"image\", \"label\"])\n",
        "\n",
        "# Applying functions to datasets (train, test, validation)\n",
        "X_train, y_train = compose_dataset_spark(trainimage_df)\n",
        "X_test, y_test = compose_dataset_spark(testimage_df)\n",
        "X_val, y_val = compose_dataset_spark(valimage_df)\n",
        "\n",
        "# Print dataset shapes\n",
        "print('Train data shape: {}, Labels shape: {}'.format(X_train.shape, y_train.shape))\n",
        "print('Test data shape: {}, Labels shape: {}'.format(X_test.shape, y_test.shape))\n",
        "print('Validation data shape: {}, Labels shape: {}'.format(X_val.shape, y_val.shape))"
      ],
      "metadata": {
        "colab": {
          "base_uri": "https://localhost:8080/"
        },
        "id": "WVp_mW5syHCz",
        "outputId": "d23c43d4-bd2a-4d89-9d7f-e5aafd757eb2"
      },
      "execution_count": 7,
      "outputs": [
        {
          "output_type": "stream",
          "name": "stdout",
          "text": [
            "Train data shape: (5216, 224, 224, 1), Labels shape: (5216,)\n",
            "Test data shape: (624, 224, 224, 1), Labels shape: (624,)\n",
            "Validation data shape: (16, 224, 224, 1), Labels shape: (16,)\n"
          ]
        }
      ]
    },
    {
      "cell_type": "markdown",
      "source": [
        "##Building the model with Keras / Tensorflow"
      ],
      "metadata": {
        "id": "U31lVSHZydGy"
      }
    },
    {
      "cell_type": "markdown",
      "source": [
        "This model requires installation of tensorflow and keras."
      ],
      "metadata": {
        "id": "wi-3lHll-MJV"
      }
    },
    {
      "cell_type": "code",
      "source": [
        "!pip install tensorflow"
      ],
      "metadata": {
        "colab": {
          "base_uri": "https://localhost:8080/"
        },
        "id": "x50xiB0Yyfxk",
        "outputId": "51881649-6f7d-4c38-d129-8af47cfe2503"
      },
      "execution_count": 8,
      "outputs": [
        {
          "output_type": "stream",
          "name": "stdout",
          "text": [
            "Requirement already satisfied: tensorflow in /usr/local/lib/python3.11/dist-packages (2.18.0)\n",
            "Requirement already satisfied: absl-py>=1.0.0 in /usr/local/lib/python3.11/dist-packages (from tensorflow) (1.4.0)\n",
            "Requirement already satisfied: astunparse>=1.6.0 in /usr/local/lib/python3.11/dist-packages (from tensorflow) (1.6.3)\n",
            "Requirement already satisfied: flatbuffers>=24.3.25 in /usr/local/lib/python3.11/dist-packages (from tensorflow) (25.1.24)\n",
            "Requirement already satisfied: gast!=0.5.0,!=0.5.1,!=0.5.2,>=0.2.1 in /usr/local/lib/python3.11/dist-packages (from tensorflow) (0.6.0)\n",
            "Requirement already satisfied: google-pasta>=0.1.1 in /usr/local/lib/python3.11/dist-packages (from tensorflow) (0.2.0)\n",
            "Requirement already satisfied: libclang>=13.0.0 in /usr/local/lib/python3.11/dist-packages (from tensorflow) (18.1.1)\n",
            "Requirement already satisfied: opt-einsum>=2.3.2 in /usr/local/lib/python3.11/dist-packages (from tensorflow) (3.4.0)\n",
            "Requirement already satisfied: packaging in /usr/local/lib/python3.11/dist-packages (from tensorflow) (24.2)\n",
            "Requirement already satisfied: protobuf!=4.21.0,!=4.21.1,!=4.21.2,!=4.21.3,!=4.21.4,!=4.21.5,<6.0.0dev,>=3.20.3 in /usr/local/lib/python3.11/dist-packages (from tensorflow) (4.25.6)\n",
            "Requirement already satisfied: requests<3,>=2.21.0 in /usr/local/lib/python3.11/dist-packages (from tensorflow) (2.32.3)\n",
            "Requirement already satisfied: setuptools in /usr/local/lib/python3.11/dist-packages (from tensorflow) (75.1.0)\n",
            "Requirement already satisfied: six>=1.12.0 in /usr/local/lib/python3.11/dist-packages (from tensorflow) (1.17.0)\n",
            "Requirement already satisfied: termcolor>=1.1.0 in /usr/local/lib/python3.11/dist-packages (from tensorflow) (2.5.0)\n",
            "Requirement already satisfied: typing-extensions>=3.6.6 in /usr/local/lib/python3.11/dist-packages (from tensorflow) (4.12.2)\n",
            "Requirement already satisfied: wrapt>=1.11.0 in /usr/local/lib/python3.11/dist-packages (from tensorflow) (1.17.2)\n",
            "Requirement already satisfied: grpcio<2.0,>=1.24.3 in /usr/local/lib/python3.11/dist-packages (from tensorflow) (1.70.0)\n",
            "Requirement already satisfied: tensorboard<2.19,>=2.18 in /usr/local/lib/python3.11/dist-packages (from tensorflow) (2.18.0)\n",
            "Requirement already satisfied: keras>=3.5.0 in /usr/local/lib/python3.11/dist-packages (from tensorflow) (3.8.0)\n",
            "Requirement already satisfied: numpy<2.1.0,>=1.26.0 in /usr/local/lib/python3.11/dist-packages (from tensorflow) (1.26.4)\n",
            "Requirement already satisfied: h5py>=3.11.0 in /usr/local/lib/python3.11/dist-packages (from tensorflow) (3.12.1)\n",
            "Requirement already satisfied: ml-dtypes<0.5.0,>=0.4.0 in /usr/local/lib/python3.11/dist-packages (from tensorflow) (0.4.1)\n",
            "Requirement already satisfied: tensorflow-io-gcs-filesystem>=0.23.1 in /usr/local/lib/python3.11/dist-packages (from tensorflow) (0.37.1)\n",
            "Requirement already satisfied: wheel<1.0,>=0.23.0 in /usr/local/lib/python3.11/dist-packages (from astunparse>=1.6.0->tensorflow) (0.45.1)\n",
            "Requirement already satisfied: rich in /usr/local/lib/python3.11/dist-packages (from keras>=3.5.0->tensorflow) (13.9.4)\n",
            "Requirement already satisfied: namex in /usr/local/lib/python3.11/dist-packages (from keras>=3.5.0->tensorflow) (0.0.8)\n",
            "Requirement already satisfied: optree in /usr/local/lib/python3.11/dist-packages (from keras>=3.5.0->tensorflow) (0.14.0)\n",
            "Requirement already satisfied: charset-normalizer<4,>=2 in /usr/local/lib/python3.11/dist-packages (from requests<3,>=2.21.0->tensorflow) (3.4.1)\n",
            "Requirement already satisfied: idna<4,>=2.5 in /usr/local/lib/python3.11/dist-packages (from requests<3,>=2.21.0->tensorflow) (3.10)\n",
            "Requirement already satisfied: urllib3<3,>=1.21.1 in /usr/local/lib/python3.11/dist-packages (from requests<3,>=2.21.0->tensorflow) (2.3.0)\n",
            "Requirement already satisfied: certifi>=2017.4.17 in /usr/local/lib/python3.11/dist-packages (from requests<3,>=2.21.0->tensorflow) (2024.12.14)\n",
            "Requirement already satisfied: markdown>=2.6.8 in /usr/local/lib/python3.11/dist-packages (from tensorboard<2.19,>=2.18->tensorflow) (3.7)\n",
            "Requirement already satisfied: tensorboard-data-server<0.8.0,>=0.7.0 in /usr/local/lib/python3.11/dist-packages (from tensorboard<2.19,>=2.18->tensorflow) (0.7.2)\n",
            "Requirement already satisfied: werkzeug>=1.0.1 in /usr/local/lib/python3.11/dist-packages (from tensorboard<2.19,>=2.18->tensorflow) (3.1.3)\n",
            "Requirement already satisfied: MarkupSafe>=2.1.1 in /usr/local/lib/python3.11/dist-packages (from werkzeug>=1.0.1->tensorboard<2.19,>=2.18->tensorflow) (3.0.2)\n",
            "Requirement already satisfied: markdown-it-py>=2.2.0 in /usr/local/lib/python3.11/dist-packages (from rich->keras>=3.5.0->tensorflow) (3.0.0)\n",
            "Requirement already satisfied: pygments<3.0.0,>=2.13.0 in /usr/local/lib/python3.11/dist-packages (from rich->keras>=3.5.0->tensorflow) (2.18.0)\n",
            "Requirement already satisfied: mdurl~=0.1 in /usr/local/lib/python3.11/dist-packages (from markdown-it-py>=2.2.0->rich->keras>=3.5.0->tensorflow) (0.1.2)\n"
          ]
        }
      ]
    },
    {
      "cell_type": "code",
      "source": [
        "import tensorflow as tf\n",
        "import keras\n",
        "from keras import models\n",
        "from keras import layers\n",
        "from keras import optimizers"
      ],
      "metadata": {
        "id": "syTw7bp759AK"
      },
      "execution_count": 9,
      "outputs": []
    },
    {
      "cell_type": "markdown",
      "source": [
        "Next we will create the CNN model."
      ],
      "metadata": {
        "id": "SWANDN1E-kwF"
      }
    },
    {
      "cell_type": "code",
      "source": [
        "\n",
        "from keras.models import Sequential\n",
        "from keras.layers import Dense, Conv2D , SeparableConv2D, MaxPool2D , Flatten , Dropout , BatchNormalization\n",
        "from tensorflow.keras import Sequential\n",
        "from tensorflow.keras.layers import Conv2D, MaxPooling2D, Flatten, Dense, Dropout\n",
        "from tensorflow.keras.utils import to_categorical\n",
        "from tensorflow.keras.optimizers import Adam\n",
        "from tensorflow.keras.callbacks import ModelCheckpoint\n",
        "\n",
        "# Define your model\n",
        "def create_model():\n",
        "    model = models.Sequential()\n",
        "    model.add(layers.Conv2D(32, (3, 3), activation='relu',\n",
        "                        input_shape=(224, 224, 1)))\n",
        "    model.add(layers.MaxPooling2D((2, 2)))\n",
        "\n",
        "    model.add(layers.Conv2D(64, (3, 3), activation='relu'))\n",
        "    model.add(layers.MaxPooling2D((2, 2)))\n",
        "\n",
        "    model.add(layers.Conv2D(128, (3, 3), activation='relu'))\n",
        "    model.add(layers.MaxPooling2D((2, 2)))\n",
        "\n",
        "    # 4th Convolution\n",
        "    model.add(layers.Conv2D(128, (3, 3), activation='relu'))\n",
        "    model.add(layers.MaxPooling2D((2, 2)))\n",
        "\n",
        "    # Flattened the layer\n",
        "    model.add(layers.Flatten())\n",
        "\n",
        "    # Fully connected layers\n",
        "    model.add(layers.Dense(64, activation='relu'))\n",
        "    model.add(layers.Dropout(0.5))\n",
        "    model.add(layers.Dense(2, activation='softmax'))\n",
        "    return model\n",
        "\n",
        "\n"
      ],
      "metadata": {
        "id": "lANUd1B0zgGf"
      },
      "execution_count": 10,
      "outputs": []
    },
    {
      "cell_type": "code",
      "source": [
        "model = create_model()"
      ],
      "metadata": {
        "id": "sGifz2OszuWy",
        "colab": {
          "base_uri": "https://localhost:8080/"
        },
        "outputId": "9a8d0b3a-0411-47c0-da61-c522f22e938c"
      },
      "execution_count": 11,
      "outputs": [
        {
          "output_type": "stream",
          "name": "stderr",
          "text": [
            "/usr/local/lib/python3.11/dist-packages/keras/src/layers/convolutional/base_conv.py:107: UserWarning: Do not pass an `input_shape`/`input_dim` argument to a layer. When using Sequential models, prefer using an `Input(shape)` object as the first layer in the model instead.\n",
            "  super().__init__(activity_regularizer=activity_regularizer, **kwargs)\n"
          ]
        }
      ]
    },
    {
      "cell_type": "code",
      "source": [
        "model.compile(optimizer=Adam(),\n",
        "              loss='categorical_crossentropy',  # For integer labels\n",
        "              metrics=['accuracy'])"
      ],
      "metadata": {
        "id": "hAH80AWsz1TZ"
      },
      "execution_count": 12,
      "outputs": []
    },
    {
      "cell_type": "code",
      "source": [
        "callbacks = [\n",
        "    keras.callbacks.ModelCheckpoint(filepath=\"/content/drive/MyDrive/Colab Notebooks/keras version/model_at_epoch_{epoch}.keras\"),\n",
        "]\n"
      ],
      "metadata": {
        "id": "CWAKCdHN0FRy"
      },
      "execution_count": 14,
      "outputs": []
    },
    {
      "cell_type": "code",
      "source": [
        "# Note: this code should only be run once.\n",
        "\n",
        "from tensorflow.keras.utils import to_categorical\n",
        "\n",
        "y_train = to_categorical(y_train, num_classes=2)\n",
        "y_val = to_categorical(y_val, num_classes=2)\n",
        "y_test = to_categorical(y_test, num_classes=2)"
      ],
      "metadata": {
        "id": "YXrPmLiC2kHr"
      },
      "execution_count": 15,
      "outputs": []
    },
    {
      "cell_type": "code",
      "source": [
        "batch_size = 128\n",
        "nb_epoch = 10\n",
        "\n",
        "history1 = model.fit(\n",
        "    X_train,  # Training data\n",
        "    y_train,  # Labels\n",
        "    validation_data=(X_val, y_val),  # Separate validation data\n",
        "    batch_size=batch_size,\n",
        "    epochs=nb_epoch,\n",
        "    callbacks=callbacks  # Any callbacks like checkpointing or early stopping\n",
        ")"
      ],
      "metadata": {
        "colab": {
          "base_uri": "https://localhost:8080/"
        },
        "id": "Xc8irJlF0TvE",
        "outputId": "094266ae-c77a-4b3a-d73b-b754cc8f4406"
      },
      "execution_count": 16,
      "outputs": [
        {
          "output_type": "stream",
          "name": "stdout",
          "text": [
            "Epoch 1/10\n",
            "\u001b[1m41/41\u001b[0m \u001b[32m━━━━━━━━━━━━━━━━━━━━\u001b[0m\u001b[37m\u001b[0m \u001b[1m34s\u001b[0m 470ms/step - accuracy: 0.6967 - loss: 0.6015 - val_accuracy: 0.6250 - val_loss: 1.1592\n",
            "Epoch 2/10\n",
            "\u001b[1m41/41\u001b[0m \u001b[32m━━━━━━━━━━━━━━━━━━━━\u001b[0m\u001b[37m\u001b[0m \u001b[1m17s\u001b[0m 193ms/step - accuracy: 0.9017 - loss: 0.2304 - val_accuracy: 0.6875 - val_loss: 1.0159\n",
            "Epoch 3/10\n",
            "\u001b[1m41/41\u001b[0m \u001b[32m━━━━━━━━━━━━━━━━━━━━\u001b[0m\u001b[37m\u001b[0m \u001b[1m8s\u001b[0m 190ms/step - accuracy: 0.9270 - loss: 0.1701 - val_accuracy: 0.6875 - val_loss: 0.6475\n",
            "Epoch 4/10\n",
            "\u001b[1m41/41\u001b[0m \u001b[32m━━━━━━━━━━━━━━━━━━━━\u001b[0m\u001b[37m\u001b[0m \u001b[1m10s\u001b[0m 193ms/step - accuracy: 0.9538 - loss: 0.1367 - val_accuracy: 0.6875 - val_loss: 0.5067\n",
            "Epoch 5/10\n",
            "\u001b[1m41/41\u001b[0m \u001b[32m━━━━━━━━━━━━━━━━━━━━\u001b[0m\u001b[37m\u001b[0m \u001b[1m10s\u001b[0m 193ms/step - accuracy: 0.9585 - loss: 0.1189 - val_accuracy: 0.9375 - val_loss: 0.1847\n",
            "Epoch 6/10\n",
            "\u001b[1m41/41\u001b[0m \u001b[32m━━━━━━━━━━━━━━━━━━━━\u001b[0m\u001b[37m\u001b[0m \u001b[1m8s\u001b[0m 190ms/step - accuracy: 0.9651 - loss: 0.0981 - val_accuracy: 0.9375 - val_loss: 0.3008\n",
            "Epoch 7/10\n",
            "\u001b[1m41/41\u001b[0m \u001b[32m━━━━━━━━━━━━━━━━━━━━\u001b[0m\u001b[37m\u001b[0m \u001b[1m8s\u001b[0m 190ms/step - accuracy: 0.9734 - loss: 0.0901 - val_accuracy: 0.9375 - val_loss: 0.1680\n",
            "Epoch 8/10\n",
            "\u001b[1m41/41\u001b[0m \u001b[32m━━━━━━━━━━━━━━━━━━━━\u001b[0m\u001b[37m\u001b[0m \u001b[1m8s\u001b[0m 194ms/step - accuracy: 0.9772 - loss: 0.0768 - val_accuracy: 0.8750 - val_loss: 0.1760\n",
            "Epoch 9/10\n",
            "\u001b[1m41/41\u001b[0m \u001b[32m━━━━━━━━━━━━━━━━━━━━\u001b[0m\u001b[37m\u001b[0m \u001b[1m10s\u001b[0m 189ms/step - accuracy: 0.9775 - loss: 0.0741 - val_accuracy: 0.8750 - val_loss: 0.2130\n",
            "Epoch 10/10\n",
            "\u001b[1m41/41\u001b[0m \u001b[32m━━━━━━━━━━━━━━━━━━━━\u001b[0m\u001b[37m\u001b[0m \u001b[1m10s\u001b[0m 191ms/step - accuracy: 0.9770 - loss: 0.0658 - val_accuracy: 1.0000 - val_loss: 0.0911\n"
          ]
        }
      ]
    },
    {
      "cell_type": "markdown",
      "source": [
        "##Evaluation and visualization of the model"
      ],
      "metadata": {
        "id": "dkZ13N5w816C"
      }
    },
    {
      "cell_type": "markdown",
      "source": [
        "Now we will visualize the accuracy and loss for each epoch, and evaluate the model using the test set."
      ],
      "metadata": {
        "id": "hzmZ5MVI_VGT"
      }
    },
    {
      "cell_type": "code",
      "source": [
        "import matplotlib.pyplot as plt\n",
        "import seaborn as sns\n",
        "\n",
        "def visualizing_model(history):\n",
        "\n",
        "    history_dict = history.history\n",
        "    train_loss_values = history_dict['loss']\n",
        "    val_loss_values = history_dict['val_loss']\n",
        "    train_accuracy = history_dict['accuracy']\n",
        "    val_accuracy = history_dict['val_accuracy']\n",
        "\n",
        "    fig, axis = plt.subplots(ncols=1, nrows=2, figsize=(7,7))\n",
        "\n",
        "    # Loss plot\n",
        "    epochs = range(1, len(val_loss_values) + 1)\n",
        "    sns.lineplot(ax=axis[0], x=epochs, y=train_loss_values, label='Training Loss')\n",
        "    sns.lineplot(ax=axis[0], x=epochs, y=val_loss_values, label='Validation Loss')\n",
        "    axis[0].set(xlabel='Epochs', ylabel='Loss')\n",
        "    axis[0].set_title('Model Loss', fontsize=20)\n",
        "    axis[0].grid(True)  # Correct grid call\n",
        "\n",
        "    # Accuracy plot\n",
        "    sns.lineplot(ax=axis[1], x=epochs, y=train_accuracy, label='Training Accuracy')\n",
        "    sns.lineplot(ax=axis[1], x=epochs, y=val_accuracy, label='Validation Accuracy')\n",
        "    axis[1].set(xlabel='Epochs', ylabel='Accuracy')\n",
        "    axis[1].set_title('Model Accuracy', fontsize=20)\n",
        "    axis[1].grid(True)  # Correct grid call\n",
        "\n",
        "    plt.tight_layout()\n",
        "    plt.show()\n"
      ],
      "metadata": {
        "id": "Rk08HjLIAh-S"
      },
      "execution_count": 19,
      "outputs": []
    },
    {
      "cell_type": "code",
      "source": [
        "visualizing_model(history1)\n"
      ],
      "metadata": {
        "colab": {
          "base_uri": "https://localhost:8080/",
          "height": 707
        },
        "id": "XRHpqfge9Ebv",
        "outputId": "5bfa1e26-0e5b-4946-fb0f-ca684951e08e"
      },
      "execution_count": 21,
      "outputs": [
        {
          "output_type": "display_data",
          "data": {
            "text/plain": [
              "<Figure size 700x700 with 2 Axes>"
            ],
            "image/png": "[encoded data removed]"
          },
          "metadata": {}
        }
      ]
    },
    {
      "cell_type": "markdown",
      "source": [
        "According to the visualization, it seems like the validation accuracy is generally on an upwards increase with more epochs, and the model loss is generally decreasing with more epochs."
      ],
      "metadata": {
        "id": "PlpTW6dtFnaM"
      }
    },
    {
      "cell_type": "markdown",
      "source": [
        "We are saving the model to the desired path."
      ],
      "metadata": {
        "id": "tonIxpkCGDyT"
      }
    },
    {
      "cell_type": "code",
      "source": [
        "model.save(\"/content/drive/MyDrive/Colab Notebooks/keras version/finalmodel.keras\")\n",
        "model = keras.saving.load_model(\"/content/drive/MyDrive/Colab Notebooks/keras version/finalmodel.keras\")"
      ],
      "metadata": {
        "id": "AKiV17PyA1jd"
      },
      "execution_count": 22,
      "outputs": []
    },
    {
      "cell_type": "code",
      "source": [
        "predictions = model.predict(X_test)"
      ],
      "metadata": {
        "colab": {
          "base_uri": "https://localhost:8080/"
        },
        "id": "l7CnRH1nBvr7",
        "outputId": "24f8ffcc-36dc-4fa0-8548-d342713efe42"
      },
      "execution_count": 23,
      "outputs": [
        {
          "output_type": "stream",
          "name": "stdout",
          "text": [
            "\u001b[1m20/20\u001b[0m \u001b[32m━━━━━━━━━━━━━━━━━━━━\u001b[0m\u001b[37m\u001b[0m \u001b[1m2s\u001b[0m 30ms/step\n"
          ]
        }
      ]
    },
    {
      "cell_type": "code",
      "source": [
        "test_loss, test_accuracy = model.evaluate(X_test, y_test, verbose=0)\n",
        "print(f\"Test Accuracy: {test_accuracy * 100:.2f}%\")"
      ],
      "metadata": {
        "colab": {
          "base_uri": "https://localhost:8080/"
        },
        "id": "D4cRihoqCN7z",
        "outputId": "58e5a947-96cc-403d-b508-b55e5ff48ff0"
      },
      "execution_count": 24,
      "outputs": [
        {
          "output_type": "stream",
          "name": "stdout",
          "text": [
            "Test Accuracy: 81.57%\n"
          ]
        }
      ]
    },
    {
      "cell_type": "markdown",
      "source": [
        "The model showed a 81.57% accuracy for our random seed, indicating that this is a decent prediction model for classifying pneumonia and normal chest X-rays."
      ],
      "metadata": {
        "id": "J7Q0wIMTFvbv"
      }
    }
  ]
}